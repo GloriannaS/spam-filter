{
 "cells": [
  {
   "cell_type": "markdown",
   "metadata": {},
   "source": [
    "# Spam Filter"
   ]
  },
  {
   "cell_type": "markdown",
   "metadata": {},
   "source": [
    "### Intro\n",
    "\n",
    "When you think of spam messages, what's the first thing that comes to your mind? Maybe random messages trying to sell you something? Or phone calls from outlandish places? Or emails that won't leave you alone? While all of these are classified in our minds as technology spam messages, calls, or emails, the word 'spam' itself has nothing to do with the actual advertising message. It doesn't stand for an acronym about unwanted soliciting or even anything along those lines. In fact, the word 'spam' comes directly from the distasteful canned meat from the 1940s. Spam was commonly used as a food that could be easily transported to areas affected by the wartime struggle of WWII. Because of its practicality, many soon grew tired of it meal after meal, calling it things like \"ham that didn't pass its physical\" or \"meatloaf without basic training.\"<sup>[1](https://en.wikipedia.org/wiki/Spam_(food))</sup> And thus, the word for this repetitive undesirable meat was eventually transferred to repetitive undesirable messages.\n",
    "\n",
    "While we could continue discussing the *facinating* history of spam meat, that is not what this short project is about. In this guided project, we will build a filter for spam messages. Just as one might want to eliminate spam meat from their diet, we aim to remove spam messages from our phones. Our objective is to create a function that filters spam messages with an accuracy of over 80%. In other words, we want our filter to accurately identify at least 80% of the messages entered.\n",
    "\n",
    "For this project, we will use a dataset consisting of 5,572 SMS messages that have already been classified as either spam or non-spam. This dataset was compiled by Tiago A. Almeida and José María Gómez Hidalgo. You can find more information about the dataset or download it [here](https://archive.ics.uci.edu/dataset/228/sms+spam+collection).\n",
    "\n",
    "Let's begin by importing the necessary libraries and data.\n",
    "\n",
    "### Exploring the Data"
   ]
  },
  {
   "cell_type": "code",
   "execution_count": 1,
   "metadata": {},
   "outputs": [
    {
     "name": "stdout",
     "output_type": "stream",
     "text": [
      "(5572, 2)\n"
     ]
    },
    {
     "data": {
      "text/html": [
       "<div>\n",
       "<style scoped>\n",
       "    .dataframe tbody tr th:only-of-type {\n",
       "        vertical-align: middle;\n",
       "    }\n",
       "\n",
       "    .dataframe tbody tr th {\n",
       "        vertical-align: top;\n",
       "    }\n",
       "\n",
       "    .dataframe thead th {\n",
       "        text-align: right;\n",
       "    }\n",
       "</style>\n",
       "<table border=\"1\" class=\"dataframe\">\n",
       "  <thead>\n",
       "    <tr style=\"text-align: right;\">\n",
       "      <th></th>\n",
       "      <th>Label</th>\n",
       "      <th>SMS</th>\n",
       "    </tr>\n",
       "  </thead>\n",
       "  <tbody>\n",
       "    <tr>\n",
       "      <th>0</th>\n",
       "      <td>ham</td>\n",
       "      <td>Go until jurong point, crazy.. Available only in bugis n great world la e buffet... Cine there got amore wat...</td>\n",
       "    </tr>\n",
       "    <tr>\n",
       "      <th>1</th>\n",
       "      <td>ham</td>\n",
       "      <td>Ok lar... Joking wif u oni...</td>\n",
       "    </tr>\n",
       "    <tr>\n",
       "      <th>2</th>\n",
       "      <td>spam</td>\n",
       "      <td>Free entry in 2 a wkly comp to win FA Cup final tkts 21st May 2005. Text FA to 87121 to receive entry question(std txt rate)T&amp;C's apply 08452810075over18's</td>\n",
       "    </tr>\n",
       "    <tr>\n",
       "      <th>3</th>\n",
       "      <td>ham</td>\n",
       "      <td>U dun say so early hor... U c already then say...</td>\n",
       "    </tr>\n",
       "    <tr>\n",
       "      <th>4</th>\n",
       "      <td>ham</td>\n",
       "      <td>Nah I don't think he goes to usf, he lives around here though</td>\n",
       "    </tr>\n",
       "    <tr>\n",
       "      <th>5</th>\n",
       "      <td>spam</td>\n",
       "      <td>FreeMsg Hey there darling it's been 3 week's now and no word back! I'd like some fun you up for it still? Tb ok! XxX std chgs to send, £1.50 to rcv</td>\n",
       "    </tr>\n",
       "    <tr>\n",
       "      <th>6</th>\n",
       "      <td>ham</td>\n",
       "      <td>Even my brother is not like to speak with me. They treat me like aids patent.</td>\n",
       "    </tr>\n",
       "    <tr>\n",
       "      <th>7</th>\n",
       "      <td>ham</td>\n",
       "      <td>As per your request 'Melle Melle (Oru Minnaminunginte Nurungu Vettam)' has been set as your callertune for all Callers. Press *9 to copy your friends Callertune</td>\n",
       "    </tr>\n",
       "    <tr>\n",
       "      <th>8</th>\n",
       "      <td>spam</td>\n",
       "      <td>WINNER!! As a valued network customer you have been selected to receivea £900 prize reward! To claim call 09061701461. Claim code KL341. Valid 12 hours only.</td>\n",
       "    </tr>\n",
       "    <tr>\n",
       "      <th>9</th>\n",
       "      <td>spam</td>\n",
       "      <td>Had your mobile 11 months or more? U R entitled to Update to the latest colour mobiles with camera for Free! Call The Mobile Update Co FREE on 08002986030</td>\n",
       "    </tr>\n",
       "  </tbody>\n",
       "</table>\n",
       "</div>"
      ],
      "text/plain": [
       "  Label  \\\n",
       "0   ham   \n",
       "1   ham   \n",
       "2  spam   \n",
       "3   ham   \n",
       "4   ham   \n",
       "5  spam   \n",
       "6   ham   \n",
       "7   ham   \n",
       "8  spam   \n",
       "9  spam   \n",
       "\n",
       "                                                                                                                                                                SMS  \n",
       "0                                                   Go until jurong point, crazy.. Available only in bugis n great world la e buffet... Cine there got amore wat...  \n",
       "1                                                                                                                                     Ok lar... Joking wif u oni...  \n",
       "2       Free entry in 2 a wkly comp to win FA Cup final tkts 21st May 2005. Text FA to 87121 to receive entry question(std txt rate)T&C's apply 08452810075over18's  \n",
       "3                                                                                                                 U dun say so early hor... U c already then say...  \n",
       "4                                                                                                     Nah I don't think he goes to usf, he lives around here though  \n",
       "5               FreeMsg Hey there darling it's been 3 week's now and no word back! I'd like some fun you up for it still? Tb ok! XxX std chgs to send, £1.50 to rcv  \n",
       "6                                                                                     Even my brother is not like to speak with me. They treat me like aids patent.  \n",
       "7  As per your request 'Melle Melle (Oru Minnaminunginte Nurungu Vettam)' has been set as your callertune for all Callers. Press *9 to copy your friends Callertune  \n",
       "8     WINNER!! As a valued network customer you have been selected to receivea £900 prize reward! To claim call 09061701461. Claim code KL341. Valid 12 hours only.  \n",
       "9        Had your mobile 11 months or more? U R entitled to Update to the latest colour mobiles with camera for Free! Call The Mobile Update Co FREE on 08002986030  "
      ]
     },
     "execution_count": 1,
     "metadata": {},
     "output_type": "execute_result"
    }
   ],
   "source": [
    "# importing our libraries\n",
    "import pandas as pd\n",
    "import matplotlib.pyplot as plt\n",
    "%matplotlib inline\n",
    "\n",
    "# importing our data\n",
    "spam_collection = pd.read_csv('SMSSpamCollection', sep='\\t', header=None, names=['Label', 'SMS'])\n",
    "\n",
    "# setting our exploration functions to output a larger number of results, larger than the defalt settings\n",
    "pd.set_option('display.max_colwidth', None)\n",
    "pd.set_option('display.max_rows', 100)\n",
    "\n",
    "# exploring our data\n",
    "print(spam_collection.shape)\n",
    "spam_collection.head(10)"
   ]
  },
  {
   "cell_type": "code",
   "execution_count": 2,
   "metadata": {},
   "outputs": [],
   "source": [
    "# resetting our exploration functions to the defalt settings\n",
    "pd.reset_option('display.max_colwidth')\n",
    "pd.reset_option('display.max_rows')"
   ]
  },
  {
   "cell_type": "markdown",
   "metadata": {},
   "source": [
    "Based on our results, we can see that our dataset contains 5,572 rows and 2 columns. The messages cover a variety of topics and lengths. In the `Label` column, we observe two unique values: 'spam' and 'ham.' We can infer that 'ham' refers to 'non-spam.' Next, we will calculate the percentage of messages in the dataset that are classified as spam and those that are not. Additionally, we will create a visualization of these percentages to better understand the distribution of the messages."
   ]
  },
  {
   "cell_type": "code",
   "execution_count": 3,
   "metadata": {},
   "outputs": [
    {
     "name": "stdout",
     "output_type": "stream",
     "text": [
      "13.41% of the messages are spam.\n",
      "86.59% of the messages are not spam.\n"
     ]
    }
   ],
   "source": [
    "# calculating the percentages of spam and ham (non-spam)\n",
    "spam_pct = len(spam_collection[spam_collection['Label'] == 'spam'])/len(spam_collection['Label'])\n",
    "spam_pct = spam_pct*100\n",
    "non_spam_pct = len(spam_collection[spam_collection['Label'] == 'ham'])/len(spam_collection['Label'])\n",
    "non_spam_pct = non_spam_pct*100\n",
    "\n",
    "print('''{}% of the messages are spam.'''.format(round(spam_pct,2)))\n",
    "print('''{}% of the messages are not spam.'''.format(round(non_spam_pct,2)))"
   ]
  },
  {
   "cell_type": "code",
   "execution_count": 4,
   "metadata": {},
   "outputs": [
    {
     "data": {
      "image/png": "[encoded data removed]",
      "text/plain": [
       "<Figure size 800x600 with 1 Axes>"
      ]
     },
     "metadata": {},
     "output_type": "display_data"
    }
   ],
   "source": [
    "# generating visualization of percentages\n",
    "labels = ['Spam', 'Non-Spam']\n",
    "sizes = [spam_pct, non_spam_pct]\n",
    "colors = ['gold', 'lightcoral']\n",
    "explode = (0.1, 0)\n",
    "\n",
    "plt.figure(figsize=(8, 6))\n",
    "plt.pie(sizes, explode=explode, labels=labels, colors=colors,\n",
    "        autopct='%1.1f%%', shadow=True, startangle=140)\n",
    "\n",
    "plt.axis('equal')  \n",
    "plt.title('Spam Vs. Non-Spam')\n",
    "plt.show()"
   ]
  },
  {
   "cell_type": "markdown",
   "metadata": {},
   "source": [
    "### Training Grounds\n",
    "\n",
    "Before we can begin building our filter, we need to establish a method for training it. If we build the filter first and organize the training data later, there is a significant risk that our test data will be biased. By \"biased,\" I mean that we might inadvertently choose data that is too easy for the filter to identify. To ensure accurate training of our filter's performance, we need to set aside a completely random set of data in advance. \n",
    "\n",
    "To achieve this, we will randomly select a portion of our dataset to use for training the filter. Once the filter is complete, we will conduct its final test using the remaining portion of the reserved data.\n",
    "\n",
    "- **Training data** (used during the filter's development): approximately 80% of our dataset\n",
    "- **Testing data** (used after the filter is built): approximately 20% of our dataset"
   ]
  },
  {
   "cell_type": "code",
   "execution_count": 5,
   "metadata": {},
   "outputs": [
    {
     "name": "stdout",
     "output_type": "stream",
     "text": [
      "Training Data: (4458, 2)\n",
      "Testing Data: (1114, 2)\n"
     ]
    }
   ],
   "source": [
    "# mixing up the data in our dataset, so we can make our selection randomly\n",
    "mixed_randomly = spam_collection.sample(frac=1, random_state=1)\n",
    "\n",
    "# Using the indexing to split the data into 80% and 20%\n",
    "indexing = round(len(mixed_randomly) * 0.8)\n",
    "training = mixed_randomly[:indexing].reset_index(drop=True)\n",
    "testing = mixed_randomly[indexing:].reset_index(drop=True)\n",
    "\n",
    "# Viewing how much data landed in each set\n",
    "print('''Training Data: {}'''.format(training.shape))\n",
    "print('''Testing Data: {}'''.format(testing.shape))"
   ]
  },
  {
   "cell_type": "markdown",
   "metadata": {},
   "source": [
    "Based on our calculations, the Training Data now contains 4,458 messages, while the Testing Data has 1,114 messages. Next, we need to verify that our random selection has distributed spam and non-spam messages evenly across both sets. Similar to our previous analysis of the entire dataset, we will calculate the percentages of spam and non-spam messages in each set and visualize the results."
   ]
  },
  {
   "cell_type": "code",
   "execution_count": 6,
   "metadata": {},
   "outputs": [
    {
     "name": "stdout",
     "output_type": "stream",
     "text": [
      "13.5% of the Training messages are spam.\n",
      "86.5% of the Training messages are not spam.\n",
      "------------------------\n",
      "13.2% of the Testing messages are spam.\n",
      "86.8% of the Testing messages are not spam.\n",
      "\n",
      "\n"
     ]
    },
    {
     "data": {
      "image/png": "[encoded data removed]",
      "text/plain": [
       "<Figure size 1000x500 with 2 Axes>"
      ]
     },
     "metadata": {},
     "output_type": "display_data"
    }
   ],
   "source": [
    "# calculating the percentages of spam and ham (non-spam) in the Training Data\n",
    "spam_pct_train = len(training[training['Label'] == 'spam'])/len(training['Label'])\n",
    "spam_pct_train = spam_pct_train*100\n",
    "non_spam_pct_train = len(training[training['Label'] == 'ham'])/len(training['Label'])\n",
    "non_spam_pct_train = non_spam_pct_train*100\n",
    "\n",
    "# calculating the percentages of spam and ham (non-spam) in the Testing Data\n",
    "spam_pct_test = len(testing[testing['Label'] == 'spam'])/len(testing['Label'])\n",
    "spam_pct_test = spam_pct_test*100\n",
    "non_spam_pct_test = len(testing[testing['Label'] == 'ham'])/len(testing['Label'])\n",
    "non_spam_pct_test = non_spam_pct_test*100\n",
    "\n",
    "# printing results\n",
    "print('''{}% of the Training messages are spam.'''.format(round(spam_pct_train,1)))\n",
    "print('''{}% of the Training messages are not spam.'''.format(round(non_spam_pct_train,1)))\n",
    "print('------------------------')\n",
    "print('''{}% of the Testing messages are spam.'''.format(round(spam_pct_test,1)))\n",
    "print('''{}% of the Testing messages are not spam.'''.format(round(non_spam_pct_test,1)))\n",
    "print('\\n')\n",
    "\n",
    "\n",
    "# generating visualizations below\n",
    "\n",
    "labels1 = ['Spam', 'Non-Spam']\n",
    "sizes1 = [round(spam_pct_train,1), round(non_spam_pct_train,1)]\n",
    "\n",
    "labels2 = ['Spam', 'Non-Spam']\n",
    "sizes2 = [round(spam_pct_test,1), round(non_spam_pct_test,1)]\n",
    "\n",
    "colors = ['#33FFF5', 'lightgreen']\n",
    "\n",
    "fig, (ax1, ax2) = plt.subplots(1, 2, figsize=(10, 5))\n",
    "\n",
    "ax1.pie(sizes1, explode=explode, labels=labels1, colors=colors, autopct='%1.1f%%', shadow=True, startangle=90)\n",
    "ax1.axis('equal')  # Equal aspect ratio ensures that pie is drawn as a circle.\n",
    "ax1.set_title('Training Data - Spam Vs. Non-Spam')\n",
    "\n",
    "ax2.pie(sizes2, explode=explode, labels=labels2, colors=colors, autopct='%1.1f%%', shadow=True, startangle=90)\n",
    "ax2.axis('equal')  # Equal aspect ratio ensures that pie is drawn as a circle.\n",
    "ax2.set_title('Testing Data - Spam Vs. Non-Spam')\n",
    "\n",
    "plt.tight_layout()\n",
    "plt.show()"
   ]
  },
  {
   "cell_type": "markdown",
   "metadata": {},
   "source": [
    "As shown above, our percentages closely match those of the original dataset. With this confirmed, we can proceed to the next step in building and training our spam message filter. We will use the Naive Bayes algorithm to classify messages as either spam or not spam. Below are the formulas and equations we will utilize, along with explanations of some of the variable definitions:\n",
    "\n",
    "![Formula Details](formula_details.png \"Formula Details\")"
   ]
  },
  {
   "cell_type": "markdown",
   "metadata": {},
   "source": [
    "### Data Cleaning\n",
    "\n",
    "As shown above, we have equation variables related to the total number of word occurrences and unique words. However, our training dataset only contains two columns: `Label` (indicating whether a message is spam or ham) and `SMS` (the message itself). This raises the question: how can we use our formulas and equations without all the necessary information? To address this, we need to access the needed information by cleaning our dataset. This process involves taking each message, removing all punctuation, and converting all words to lowercase. After that, we will create a column for each unique word in the dataset, with each row indicating the number of times that word appears in each message.\n",
    "\n",
    "![Dataset Format](dataset_format.png \"Dataset Format\")\n",
    "\n",
    "We will start this process by removing all punctuation and converting each letter to lowercase, as shown in the code below."
   ]
  },
  {
   "cell_type": "code",
   "execution_count": 7,
   "metadata": {},
   "outputs": [
    {
     "name": "stdout",
     "output_type": "stream",
     "text": [
      "Training set before cleaning:\n",
      "  Label                                                SMS\n",
      "0   ham                       Yep, by the pretty sculpture\n",
      "1   ham      Yes, princess. Are you going to make me moan?\n",
      "2   ham                         Welp apparently he retired\n",
      "3   ham                                            Havent.\n",
      "4   ham  I forgot 2 ask ü all smth.. There's a card on ...\n",
      "\n",
      "\n",
      "Training set after cleaning:\n",
      "  Label                                                SMS\n",
      "0   ham                        yep by the pretty sculpture\n",
      "1   ham         yes princess are you going to make me moan\n",
      "2   ham                         welp apparently he retired\n",
      "3   ham                                             havent\n",
      "4   ham  i forgot 2 ask ü all smth theres a card on da ...\n"
     ]
    }
   ],
   "source": [
    "# Cleaning the training set and printing results\n",
    "print('Training set before cleaning:')\n",
    "print(training.head())\n",
    "print('\\n')\n",
    "print('Training set after cleaning:')\n",
    "# removing all characters that are not letters or numbers\n",
    "training['SMS'] = training['SMS'].str.replace(r'[!\"#$%&\\'()*+,-./:;<=>?@[\\\\\\]^_`{|}~]', '', regex=True)\n",
    "# converting all letters to lowercase\n",
    "training['SMS'] = training['SMS'].str.lower()\n",
    "print(training.head())"
   ]
  },
  {
   "cell_type": "markdown",
   "metadata": {},
   "source": [
    "### Vocabulary\n",
    "\n",
    "Now that our training data is clean and uniformly formatted, we are ready to create our vocabulary. We will begin by identifying all the unique words in our training dataset and compiling them into a list."
   ]
  },
  {
   "cell_type": "code",
   "execution_count": 8,
   "metadata": {},
   "outputs": [
    {
     "name": "stdout",
     "output_type": "stream",
     "text": [
      "8515\n"
     ]
    }
   ],
   "source": [
    "training['SMS'] = training['SMS'].str.split()\n",
    "vocabulary = []\n",
    "\n",
    "for row in training['SMS']:\n",
    "    for word in row:\n",
    "        vocabulary.append(word)\n",
    "\n",
    "vocabulary = list(set(vocabulary))\n",
    "print(len(vocabulary))"
   ]
  },
  {
   "cell_type": "markdown",
   "metadata": {},
   "source": [
    "With our vocabulary list now complete, containing 8,515 words, we can proceed to convert our training dataset into its completed format. In the code below, we will generate a dictionary that counts the number of vocabulary words present in each message. Next, we will update each row to reflect how many times each word appears in the message. Finally, we will combine all the rows and columns to achieve our final format.\n",
    "\n",
    "![Final Format](final_format.png \"Final Format\")"
   ]
  },
  {
   "cell_type": "code",
   "execution_count": 9,
   "metadata": {},
   "outputs": [],
   "source": [
    "# calculating vocabulary dictionary\n",
    "word_counts_per_sms = {unique_word: [0] * len(training['SMS']) for unique_word in vocabulary}\n",
    "\n",
    "for index, sms in enumerate(training['SMS']):\n",
    "    for word in sms:\n",
    "        word_counts_per_sms[word][index] += 1"
   ]
  },
  {
   "cell_type": "code",
   "execution_count": 10,
   "metadata": {},
   "outputs": [
    {
     "data": {
      "text/html": [
       "<div>\n",
       "<style scoped>\n",
       "    .dataframe tbody tr th:only-of-type {\n",
       "        vertical-align: middle;\n",
       "    }\n",
       "\n",
       "    .dataframe tbody tr th {\n",
       "        vertical-align: top;\n",
       "    }\n",
       "\n",
       "    .dataframe thead th {\n",
       "        text-align: right;\n",
       "    }\n",
       "</style>\n",
       "<table border=\"1\" class=\"dataframe\">\n",
       "  <thead>\n",
       "    <tr style=\"text-align: right;\">\n",
       "      <th></th>\n",
       "      <th>diwali</th>\n",
       "      <th>078</th>\n",
       "      <th>1month</th>\n",
       "      <th>m227xy</th>\n",
       "      <th>sapna</th>\n",
       "      <th>off</th>\n",
       "      <th>wwwmusictrivianet</th>\n",
       "      <th>better</th>\n",
       "      <th>wenever</th>\n",
       "      <th>wiskey</th>\n",
       "      <th>...</th>\n",
       "      <th>woould</th>\n",
       "      <th>mcr</th>\n",
       "      <th>fakeyes</th>\n",
       "      <th>those</th>\n",
       "      <th>waiting</th>\n",
       "      <th>o2</th>\n",
       "      <th>dont4get2text</th>\n",
       "      <th>81618</th>\n",
       "      <th>onam</th>\n",
       "      <th>galcan</th>\n",
       "    </tr>\n",
       "  </thead>\n",
       "  <tbody>\n",
       "    <tr>\n",
       "      <th>0</th>\n",
       "      <td>0</td>\n",
       "      <td>0</td>\n",
       "      <td>0</td>\n",
       "      <td>0</td>\n",
       "      <td>0</td>\n",
       "      <td>0</td>\n",
       "      <td>0</td>\n",
       "      <td>0</td>\n",
       "      <td>0</td>\n",
       "      <td>0</td>\n",
       "      <td>...</td>\n",
       "      <td>0</td>\n",
       "      <td>0</td>\n",
       "      <td>0</td>\n",
       "      <td>0</td>\n",
       "      <td>0</td>\n",
       "      <td>0</td>\n",
       "      <td>0</td>\n",
       "      <td>0</td>\n",
       "      <td>0</td>\n",
       "      <td>0</td>\n",
       "    </tr>\n",
       "    <tr>\n",
       "      <th>1</th>\n",
       "      <td>0</td>\n",
       "      <td>0</td>\n",
       "      <td>0</td>\n",
       "      <td>0</td>\n",
       "      <td>0</td>\n",
       "      <td>0</td>\n",
       "      <td>0</td>\n",
       "      <td>0</td>\n",
       "      <td>0</td>\n",
       "      <td>0</td>\n",
       "      <td>...</td>\n",
       "      <td>0</td>\n",
       "      <td>0</td>\n",
       "      <td>0</td>\n",
       "      <td>0</td>\n",
       "      <td>0</td>\n",
       "      <td>0</td>\n",
       "      <td>0</td>\n",
       "      <td>0</td>\n",
       "      <td>0</td>\n",
       "      <td>0</td>\n",
       "    </tr>\n",
       "    <tr>\n",
       "      <th>2</th>\n",
       "      <td>0</td>\n",
       "      <td>0</td>\n",
       "      <td>0</td>\n",
       "      <td>0</td>\n",
       "      <td>0</td>\n",
       "      <td>0</td>\n",
       "      <td>0</td>\n",
       "      <td>0</td>\n",
       "      <td>0</td>\n",
       "      <td>0</td>\n",
       "      <td>...</td>\n",
       "      <td>0</td>\n",
       "      <td>0</td>\n",
       "      <td>0</td>\n",
       "      <td>0</td>\n",
       "      <td>0</td>\n",
       "      <td>0</td>\n",
       "      <td>0</td>\n",
       "      <td>0</td>\n",
       "      <td>0</td>\n",
       "      <td>0</td>\n",
       "    </tr>\n",
       "    <tr>\n",
       "      <th>3</th>\n",
       "      <td>0</td>\n",
       "      <td>0</td>\n",
       "      <td>0</td>\n",
       "      <td>0</td>\n",
       "      <td>0</td>\n",
       "      <td>0</td>\n",
       "      <td>0</td>\n",
       "      <td>0</td>\n",
       "      <td>0</td>\n",
       "      <td>0</td>\n",
       "      <td>...</td>\n",
       "      <td>0</td>\n",
       "      <td>0</td>\n",
       "      <td>0</td>\n",
       "      <td>0</td>\n",
       "      <td>0</td>\n",
       "      <td>0</td>\n",
       "      <td>0</td>\n",
       "      <td>0</td>\n",
       "      <td>0</td>\n",
       "      <td>0</td>\n",
       "    </tr>\n",
       "    <tr>\n",
       "      <th>4</th>\n",
       "      <td>0</td>\n",
       "      <td>0</td>\n",
       "      <td>0</td>\n",
       "      <td>0</td>\n",
       "      <td>0</td>\n",
       "      <td>0</td>\n",
       "      <td>0</td>\n",
       "      <td>0</td>\n",
       "      <td>0</td>\n",
       "      <td>0</td>\n",
       "      <td>...</td>\n",
       "      <td>0</td>\n",
       "      <td>0</td>\n",
       "      <td>0</td>\n",
       "      <td>0</td>\n",
       "      <td>0</td>\n",
       "      <td>0</td>\n",
       "      <td>0</td>\n",
       "      <td>0</td>\n",
       "      <td>0</td>\n",
       "      <td>0</td>\n",
       "    </tr>\n",
       "  </tbody>\n",
       "</table>\n",
       "<p>5 rows × 8515 columns</p>\n",
       "</div>"
      ],
      "text/plain": [
       "   diwali  078  1month  m227xy  sapna  off  wwwmusictrivianet  better  \\\n",
       "0       0    0       0       0      0    0                  0       0   \n",
       "1       0    0       0       0      0    0                  0       0   \n",
       "2       0    0       0       0      0    0                  0       0   \n",
       "3       0    0       0       0      0    0                  0       0   \n",
       "4       0    0       0       0      0    0                  0       0   \n",
       "\n",
       "   wenever  wiskey  ...  woould  mcr  fakeyes  those  waiting  o2  \\\n",
       "0        0       0  ...       0    0        0      0        0   0   \n",
       "1        0       0  ...       0    0        0      0        0   0   \n",
       "2        0       0  ...       0    0        0      0        0   0   \n",
       "3        0       0  ...       0    0        0      0        0   0   \n",
       "4        0       0  ...       0    0        0      0        0   0   \n",
       "\n",
       "   dont4get2text  81618  onam  galcan  \n",
       "0              0      0     0       0  \n",
       "1              0      0     0       0  \n",
       "2              0      0     0       0  \n",
       "3              0      0     0       0  \n",
       "4              0      0     0       0  \n",
       "\n",
       "[5 rows x 8515 columns]"
      ]
     },
     "execution_count": 10,
     "metadata": {},
     "output_type": "execute_result"
    }
   ],
   "source": [
    "# converting dictionary to dataframe\n",
    "word_counts = pd.DataFrame(word_counts_per_sms)\n",
    "word_counts.head()"
   ]
  },
  {
   "cell_type": "code",
   "execution_count": 11,
   "metadata": {},
   "outputs": [
    {
     "data": {
      "text/html": [
       "<div>\n",
       "<style scoped>\n",
       "    .dataframe tbody tr th:only-of-type {\n",
       "        vertical-align: middle;\n",
       "    }\n",
       "\n",
       "    .dataframe tbody tr th {\n",
       "        vertical-align: top;\n",
       "    }\n",
       "\n",
       "    .dataframe thead th {\n",
       "        text-align: right;\n",
       "    }\n",
       "</style>\n",
       "<table border=\"1\" class=\"dataframe\">\n",
       "  <thead>\n",
       "    <tr style=\"text-align: right;\">\n",
       "      <th></th>\n",
       "      <th>Label</th>\n",
       "      <th>SMS</th>\n",
       "      <th>diwali</th>\n",
       "      <th>078</th>\n",
       "      <th>1month</th>\n",
       "      <th>m227xy</th>\n",
       "      <th>sapna</th>\n",
       "      <th>off</th>\n",
       "      <th>wwwmusictrivianet</th>\n",
       "      <th>better</th>\n",
       "      <th>...</th>\n",
       "      <th>woould</th>\n",
       "      <th>mcr</th>\n",
       "      <th>fakeyes</th>\n",
       "      <th>those</th>\n",
       "      <th>waiting</th>\n",
       "      <th>o2</th>\n",
       "      <th>dont4get2text</th>\n",
       "      <th>81618</th>\n",
       "      <th>onam</th>\n",
       "      <th>galcan</th>\n",
       "    </tr>\n",
       "  </thead>\n",
       "  <tbody>\n",
       "    <tr>\n",
       "      <th>0</th>\n",
       "      <td>ham</td>\n",
       "      <td>[yep, by, the, pretty, sculpture]</td>\n",
       "      <td>0</td>\n",
       "      <td>0</td>\n",
       "      <td>0</td>\n",
       "      <td>0</td>\n",
       "      <td>0</td>\n",
       "      <td>0</td>\n",
       "      <td>0</td>\n",
       "      <td>0</td>\n",
       "      <td>...</td>\n",
       "      <td>0</td>\n",
       "      <td>0</td>\n",
       "      <td>0</td>\n",
       "      <td>0</td>\n",
       "      <td>0</td>\n",
       "      <td>0</td>\n",
       "      <td>0</td>\n",
       "      <td>0</td>\n",
       "      <td>0</td>\n",
       "      <td>0</td>\n",
       "    </tr>\n",
       "    <tr>\n",
       "      <th>1</th>\n",
       "      <td>ham</td>\n",
       "      <td>[yes, princess, are, you, going, to, make, me,...</td>\n",
       "      <td>0</td>\n",
       "      <td>0</td>\n",
       "      <td>0</td>\n",
       "      <td>0</td>\n",
       "      <td>0</td>\n",
       "      <td>0</td>\n",
       "      <td>0</td>\n",
       "      <td>0</td>\n",
       "      <td>...</td>\n",
       "      <td>0</td>\n",
       "      <td>0</td>\n",
       "      <td>0</td>\n",
       "      <td>0</td>\n",
       "      <td>0</td>\n",
       "      <td>0</td>\n",
       "      <td>0</td>\n",
       "      <td>0</td>\n",
       "      <td>0</td>\n",
       "      <td>0</td>\n",
       "    </tr>\n",
       "    <tr>\n",
       "      <th>2</th>\n",
       "      <td>ham</td>\n",
       "      <td>[welp, apparently, he, retired]</td>\n",
       "      <td>0</td>\n",
       "      <td>0</td>\n",
       "      <td>0</td>\n",
       "      <td>0</td>\n",
       "      <td>0</td>\n",
       "      <td>0</td>\n",
       "      <td>0</td>\n",
       "      <td>0</td>\n",
       "      <td>...</td>\n",
       "      <td>0</td>\n",
       "      <td>0</td>\n",
       "      <td>0</td>\n",
       "      <td>0</td>\n",
       "      <td>0</td>\n",
       "      <td>0</td>\n",
       "      <td>0</td>\n",
       "      <td>0</td>\n",
       "      <td>0</td>\n",
       "      <td>0</td>\n",
       "    </tr>\n",
       "    <tr>\n",
       "      <th>3</th>\n",
       "      <td>ham</td>\n",
       "      <td>[havent]</td>\n",
       "      <td>0</td>\n",
       "      <td>0</td>\n",
       "      <td>0</td>\n",
       "      <td>0</td>\n",
       "      <td>0</td>\n",
       "      <td>0</td>\n",
       "      <td>0</td>\n",
       "      <td>0</td>\n",
       "      <td>...</td>\n",
       "      <td>0</td>\n",
       "      <td>0</td>\n",
       "      <td>0</td>\n",
       "      <td>0</td>\n",
       "      <td>0</td>\n",
       "      <td>0</td>\n",
       "      <td>0</td>\n",
       "      <td>0</td>\n",
       "      <td>0</td>\n",
       "      <td>0</td>\n",
       "    </tr>\n",
       "    <tr>\n",
       "      <th>4</th>\n",
       "      <td>ham</td>\n",
       "      <td>[i, forgot, 2, ask, ü, all, smth, theres, a, c...</td>\n",
       "      <td>0</td>\n",
       "      <td>0</td>\n",
       "      <td>0</td>\n",
       "      <td>0</td>\n",
       "      <td>0</td>\n",
       "      <td>0</td>\n",
       "      <td>0</td>\n",
       "      <td>0</td>\n",
       "      <td>...</td>\n",
       "      <td>0</td>\n",
       "      <td>0</td>\n",
       "      <td>0</td>\n",
       "      <td>0</td>\n",
       "      <td>0</td>\n",
       "      <td>0</td>\n",
       "      <td>0</td>\n",
       "      <td>0</td>\n",
       "      <td>0</td>\n",
       "      <td>0</td>\n",
       "    </tr>\n",
       "  </tbody>\n",
       "</table>\n",
       "<p>5 rows × 8517 columns</p>\n",
       "</div>"
      ],
      "text/plain": [
       "  Label                                                SMS  diwali  078  \\\n",
       "0   ham                  [yep, by, the, pretty, sculpture]       0    0   \n",
       "1   ham  [yes, princess, are, you, going, to, make, me,...       0    0   \n",
       "2   ham                    [welp, apparently, he, retired]       0    0   \n",
       "3   ham                                           [havent]       0    0   \n",
       "4   ham  [i, forgot, 2, ask, ü, all, smth, theres, a, c...       0    0   \n",
       "\n",
       "   1month  m227xy  sapna  off  wwwmusictrivianet  better  ...  woould  mcr  \\\n",
       "0       0       0      0    0                  0       0  ...       0    0   \n",
       "1       0       0      0    0                  0       0  ...       0    0   \n",
       "2       0       0      0    0                  0       0  ...       0    0   \n",
       "3       0       0      0    0                  0       0  ...       0    0   \n",
       "4       0       0      0    0                  0       0  ...       0    0   \n",
       "\n",
       "   fakeyes  those  waiting  o2  dont4get2text  81618  onam  galcan  \n",
       "0        0      0        0   0              0      0     0       0  \n",
       "1        0      0        0   0              0      0     0       0  \n",
       "2        0      0        0   0              0      0     0       0  \n",
       "3        0      0        0   0              0      0     0       0  \n",
       "4        0      0        0   0              0      0     0       0  \n",
       "\n",
       "[5 rows x 8517 columns]"
      ]
     },
     "execution_count": 11,
     "metadata": {},
     "output_type": "execute_result"
    }
   ],
   "source": [
    "# combining vocabulary dataframe with original training dataset ('Label' and 'SMS')\n",
    "training_clean = pd.concat([training, word_counts], axis=1)\n",
    "training_clean.head()"
   ]
  },
  {
   "cell_type": "markdown",
   "metadata": {},
   "source": [
    "### Variables & Constants\n",
    "\n",
    "Now that our training data is ready, we can officially start developing the calculations for our spam filter. We will begin by calculating the five variables listed below, as these will be used repeatedly in the formulas.\n",
    "\n",
    "![Calculations - Pt 1](calculations_pt1.png \"Calculations - Pt 1\")"
   ]
  },
  {
   "cell_type": "code",
   "execution_count": 12,
   "metadata": {},
   "outputs": [],
   "source": [
    "# First, let's separate the spam from the non-spam in our training dataset for improved accessibility\n",
    "spam = training_clean[training_clean['Label'] == 'spam']\n",
    "ham = training_clean[training_clean['Label'] == 'ham']\n",
    "\n",
    "# P(Spam)\n",
    "p_spam = len(spam) / len(training_clean)\n",
    "\n",
    "# P(Ham)\n",
    "p_ham = len(ham) / len(training_clean)\n",
    "\n",
    "# N_Spam\n",
    "words_per_spam_mesg = spam['SMS'].apply(len)\n",
    "n_spam = words_per_spam_mesg.sum()\n",
    "\n",
    "# N_Ham\n",
    "words_per_ham_mesg = ham['SMS'].apply(len)\n",
    "n_ham = words_per_ham_mesg.sum()\n",
    "\n",
    "# N_Vocabulary\n",
    "n_vocabulary = len(vocabulary)\n",
    "\n",
    "# Laplace smoothing alpha\n",
    "alpha = 1"
   ]
  },
  {
   "cell_type": "markdown",
   "metadata": {},
   "source": [
    "With our variables now defined, we can continue to move forward with our calculations. We will calculate the probability of each word in both the spam and ham sections of our training dataset. This is important because we can use these pre-calculated probabilities to quickly determine whether any message in the dataset is spam or not. If we had to recalculate the probability of each word for every new message, the identification process would take much longer."
   ]
  },
  {
   "cell_type": "code",
   "execution_count": 13,
   "metadata": {},
   "outputs": [],
   "source": [
    "# two empty dictionaries for the probability of each word in spam and ham\n",
    "p_words_spam = {word: 0 for word in vocabulary}\n",
    "\n",
    "p_words_ham = {word: 0 for word in vocabulary}"
   ]
  },
  {
   "cell_type": "code",
   "execution_count": 14,
   "metadata": {},
   "outputs": [],
   "source": [
    "# Now we will calculate and assign each words probability in both dictionaries\n",
    "for word in vocabulary:\n",
    "    # the number of times the word occurs in all the spam messages\n",
    "    n_w_spam = spam[word].sum()\n",
    "    # the number of times the word occurs in all the spam messages\n",
    "    n_w_ham = ham[word].sum()\n",
    "\n",
    "    # probability of the word, given spam\n",
    "    p_w_spam = (n_w_spam + alpha) / (n_spam + alpha*n_vocabulary)\n",
    "    # probability of the word, given ham\n",
    "    p_w_ham = (n_w_ham + alpha) / (n_ham + alpha*n_vocabulary)\n",
    "\n",
    "    # adding the probabilites of each word to their respective dictionaries\n",
    "    p_words_spam[word] = p_w_spam\n",
    "    p_words_ham[word] = p_w_ham"
   ]
  },
  {
   "cell_type": "markdown",
   "metadata": {},
   "source": [
    "### Spam Filter - First Draft and Initial Test\n",
    "\n",
    "Using both previously defined variables and some new ones, we prepared all the constants and parameters needed for our spam filter in the code above. We are now ready to write our spam filter function. The general outline of the function below is as follows:\n",
    "\n",
    "- Clean the entered message.\n",
    "- Calculate the probability of the message being spam.\n",
    "- Calculate the probability of the message being ham.\n",
    "- Compare the two final probability variables to determine the status of the message (spam or ham).\n",
    "- The probability that is larger determines the resulting status of the message (e.g., if the spam probability is larger, then the message should be labeled as spam).\n",
    "- If the two probabilities are the same, advise that a human evaluate the message."
   ]
  },
  {
   "cell_type": "code",
   "execution_count": 15,
   "metadata": {},
   "outputs": [],
   "source": [
    "import re\n",
    "\n",
    "def classify(message):\n",
    "\n",
    "    # the inputed message is assumed to be a string. The string message needs to be cleaned up before evaluated\n",
    "    message = re.sub(r'[!\"#$%&\\'()*+,-./:;<=>?@[\\\\\\]^_`{|}~]', '', message)\n",
    "    message = message.lower()\n",
    "    message = message.split()\n",
    "\n",
    "    # initializing the final probability variables\n",
    "    p_spam_given_message = p_spam\n",
    "    p_ham_given_message = p_ham\n",
    "\n",
    "    # updating the final probability variables based on the probabilities of the\n",
    "    # words in the message that exist in our vocabulary\n",
    "    for word in message:\n",
    "        if word in p_words_spam:\n",
    "            p_spam_given_message *= p_words_spam[word]\n",
    "        if word in p_words_ham:\n",
    "            p_ham_given_message *= p_words_ham[word]\n",
    "\n",
    "    print('P(Spam|message):', p_spam_given_message)\n",
    "    print('P(Ham|message):', p_ham_given_message)\n",
    "\n",
    "    # comparing the two final probability values to determine the message label\n",
    "    if p_ham_given_message > p_spam_given_message:\n",
    "        print('Label: Ham')\n",
    "    elif p_ham_given_message < p_spam_given_message:\n",
    "        print('Label: Spam')\n",
    "    else:\n",
    "        print('Equal proabilities, have a human classify this!')"
   ]
  },
  {
   "cell_type": "markdown",
   "metadata": {},
   "source": [
    "Now that we have tentatively written our function, we will run two test messages through it. The first test message is clearly spam, while the second one is ham, so it will be easy for us to see whether or not our function is running correctly."
   ]
  },
  {
   "cell_type": "code",
   "execution_count": 16,
   "metadata": {},
   "outputs": [],
   "source": [
    "test_message_1 = 'WINNER!! This is the secret code to unlock the money: C3421.'\n",
    "test_message_2 = \"Sounds good, Tom, then see u there\""
   ]
  },
  {
   "cell_type": "code",
   "execution_count": 17,
   "metadata": {},
   "outputs": [
    {
     "name": "stdout",
     "output_type": "stream",
     "text": [
      "P(Spam|message): 1.4361657325996457e-25\n",
      "P(Ham|message): 2.2354814351168748e-27\n",
      "Label: Spam\n"
     ]
    }
   ],
   "source": [
    "classify(test_message_1)"
   ]
  },
  {
   "cell_type": "code",
   "execution_count": 18,
   "metadata": {},
   "outputs": [
    {
     "name": "stdout",
     "output_type": "stream",
     "text": [
      "P(Spam|message): 1.653949276149959e-25\n",
      "P(Ham|message): 3.112711574094406e-21\n",
      "Label: Ham\n"
     ]
    }
   ],
   "source": [
    "classify(test_message_2)"
   ]
  },
  {
   "cell_type": "markdown",
   "metadata": {},
   "source": [
    "### Spam Filter - Final Draft and Test\n",
    "\n",
    "As we can see from the results above, our function has correctly labeled our two test messages. Now, we want to see how it does with the testing section of the dataset that we sectioned off earlier. However, before we plug in all those messages, we will have to change our function a bit, to output labels instead of a printed result message. Note the return statements in the updated function below."
   ]
  },
  {
   "cell_type": "code",
   "execution_count": 19,
   "metadata": {},
   "outputs": [],
   "source": [
    "def classify_label(message):\n",
    "\n",
    "    # the inputed message is assumed to be a string. The string message needs to be cleaned up before evaluated\n",
    "    message = re.sub(r'[!\"#$%&\\'()*+,-./:;<=>?@[\\\\\\]^_`{|}~]', '', message)\n",
    "    message = message.lower()\n",
    "    message = message.split()\n",
    "\n",
    "    # initializing the final probability variables\n",
    "    p_spam_given_message = p_spam\n",
    "    p_ham_given_message = p_ham\n",
    "\n",
    "    # updating the final probability variables based on the probabilities of the\n",
    "    # words in the message that exist in our vocabulary\n",
    "    for word in message:\n",
    "        if word in p_words_spam:\n",
    "            p_spam_given_message *= p_words_spam[word]\n",
    "        if word in p_words_ham:\n",
    "            p_ham_given_message *= p_words_ham[word]\n",
    "\n",
    "    # comparing the two final probability values to determine the message label\n",
    "    if p_ham_given_message > p_spam_given_message:\n",
    "        return 'ham'\n",
    "    elif p_ham_given_message < p_spam_given_message:\n",
    "        return 'spam'\n",
    "    else:\n",
    "        return 'needs human classification'"
   ]
  },
  {
   "cell_type": "markdown",
   "metadata": {},
   "source": [
    "With the final draft of our filter written above, we can go ahead and use it to add a new column to our testing dataset. The new column will contain the labels our filter assigns to each message."
   ]
  },
  {
   "cell_type": "code",
   "execution_count": 20,
   "metadata": {},
   "outputs": [
    {
     "data": {
      "text/html": [
       "<div>\n",
       "<style scoped>\n",
       "    .dataframe tbody tr th:only-of-type {\n",
       "        vertical-align: middle;\n",
       "    }\n",
       "\n",
       "    .dataframe tbody tr th {\n",
       "        vertical-align: top;\n",
       "    }\n",
       "\n",
       "    .dataframe thead th {\n",
       "        text-align: right;\n",
       "    }\n",
       "</style>\n",
       "<table border=\"1\" class=\"dataframe\">\n",
       "  <thead>\n",
       "    <tr style=\"text-align: right;\">\n",
       "      <th></th>\n",
       "      <th>Label</th>\n",
       "      <th>SMS</th>\n",
       "      <th>predicted</th>\n",
       "    </tr>\n",
       "  </thead>\n",
       "  <tbody>\n",
       "    <tr>\n",
       "      <th>0</th>\n",
       "      <td>ham</td>\n",
       "      <td>Later i guess. I needa do mcat study too.</td>\n",
       "      <td>ham</td>\n",
       "    </tr>\n",
       "    <tr>\n",
       "      <th>1</th>\n",
       "      <td>ham</td>\n",
       "      <td>But i haf enuff space got like 4 mb...</td>\n",
       "      <td>ham</td>\n",
       "    </tr>\n",
       "    <tr>\n",
       "      <th>2</th>\n",
       "      <td>spam</td>\n",
       "      <td>Had your mobile 10 mths? Update to latest Oran...</td>\n",
       "      <td>spam</td>\n",
       "    </tr>\n",
       "    <tr>\n",
       "      <th>3</th>\n",
       "      <td>ham</td>\n",
       "      <td>All sounds good. Fingers . Makes it difficult ...</td>\n",
       "      <td>ham</td>\n",
       "    </tr>\n",
       "    <tr>\n",
       "      <th>4</th>\n",
       "      <td>ham</td>\n",
       "      <td>All done, all handed in. Don't know if mega sh...</td>\n",
       "      <td>ham</td>\n",
       "    </tr>\n",
       "  </tbody>\n",
       "</table>\n",
       "</div>"
      ],
      "text/plain": [
       "  Label                                                SMS predicted\n",
       "0   ham          Later i guess. I needa do mcat study too.       ham\n",
       "1   ham             But i haf enuff space got like 4 mb...       ham\n",
       "2  spam  Had your mobile 10 mths? Update to latest Oran...      spam\n",
       "3   ham  All sounds good. Fingers . Makes it difficult ...       ham\n",
       "4   ham  All done, all handed in. Don't know if mega sh...       ham"
      ]
     },
     "execution_count": 20,
     "metadata": {},
     "output_type": "execute_result"
    }
   ],
   "source": [
    "testing['predicted'] = testing['SMS'].apply(classify_label)\n",
    "testing.head()"
   ]
  },
  {
   "cell_type": "markdown",
   "metadata": {},
   "source": [
    "### Accuracy\n",
    "\n",
    "Remember that our goal is for the accuracy of our filter to exceed 80%. We can determine the accuracy of our filter using the testing data we just analyzed. To do this, we will divide the number of accurately labeled messages by the total number of labeled messages."
   ]
  },
  {
   "cell_type": "code",
   "execution_count": 21,
   "metadata": {},
   "outputs": [
    {
     "name": "stdout",
     "output_type": "stream",
     "text": [
      "Accuracy: 97.85%\n"
     ]
    }
   ],
   "source": [
    "correct = 0\n",
    "total = len(testing['SMS'])\n",
    "\n",
    "# counting how many labes our filter got correct\n",
    "for index, row in testing.iterrows():\n",
    "    if row['predicted'] == row['Label']:\n",
    "        correct += 1\n",
    "\n",
    "# calculating the accuracy\n",
    "accuracy = correct/total\n",
    "\n",
    "# converting the accuracy value to a percentage\n",
    "accuracy_pct = accuracy*100\n",
    "accuracy_pct = round(accuracy_pct,2)\n",
    "\n",
    "print('''Accuracy: {}%'''.format(accuracy_pct))"
   ]
  },
  {
   "cell_type": "markdown",
   "metadata": {},
   "source": [
    "As shown above, our accuracy rate is 97.85%. This is an outstanding result, exceeding our expectations and goals! It appears that our filter is functioning very effectively.\n",
    "\n",
    "### Conclusion\n",
    "\n",
    "In this project, we developed a filter for spam messages using the Naive Bayes algorithm. Our results were highly accurate, with incorrect classifications occurring only 2.15% of the time. This project demonstrates that the Naive Bayes algorithm can be very effective for both filtering and predicting outcomes. When these probability skills are aligned with a clear objective, such as identifying spam messages, we can achieve remarkable results!"
   ]
  }
 ],
 "metadata": {
  "kernelspec": {
   "display_name": "Python 3 (ipykernel)",
   "language": "python",
   "name": "python3"
  },
  "language_info": {
   "codemirror_mode": {
    "name": "ipython",
    "version": 3
   },
   "file_extension": ".py",
   "mimetype": "text/x-python",
   "name": "python",
   "nbconvert_exporter": "python",
   "pygments_lexer": "ipython3",
   "version": "3.12.4"
  }
 },
 "nbformat": 4,
 "nbformat_minor": 4
}
